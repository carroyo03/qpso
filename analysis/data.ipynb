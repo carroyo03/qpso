{
 "cells": [
  {
   "cell_type": "markdown",
   "id": "50c21fb16d6bc73e",
   "metadata": {},
   "source": [
    "# PSO Implementation and Results Comparison between My PSOs and PySwarms\n",
    "\n",
    "* In this notebook, the results of My PSOs and PySwarms are compared for different optimization functions (Rosenbrock, Ackley and Rastrigin).\n",
    "* For each function, the best parameter configurations are analyzed and the final costs and execution times are compared.\n",
    "* Convergence plots are generated and stability statistics are analyzed.\n",
    "* Box plots are generated to visualize the distribution of costs and execution times.\n",
    "* Scatter plots are generated to compare the final cost and execution time between both methods.\n"
   ]
  },
  {
   "cell_type": "code",
   "execution_count": 1,
   "id": "initial_id",
   "metadata": {
    "ExecuteTime": {
     "end_time": "2025-05-13T22:32:42.380605Z",
     "start_time": "2025-05-13T22:32:41.904218Z"
    },
    "collapsed": true,
    "execution": {
     "iopub.execute_input": "2025-05-21T07:26:08.350682Z",
     "iopub.status.busy": "2025-05-21T07:26:08.350330Z",
     "iopub.status.idle": "2025-05-21T07:26:11.326050Z",
     "shell.execute_reply": "2025-05-21T07:26:11.324779Z"
    },
    "jupyter": {
     "outputs_hidden": true
    }
   },
   "outputs": [
    {
     "name": "stdout",
     "output_type": "stream",
     "text": [
      "Error: The file pso_results.csv was not found in the current directory.\n",
      "Please make sure the CSV file is present or update the path.\n",
      "Displaying analysis with an empty DataFrame as a placeholder.\n",
      "\n",
      "DataFrame is empty. Cannot show top configurations for ackley.\n",
      "\n",
      "DataFrame is empty. Cannot show top configurations for rastrigin.\n",
      "\n",
      "DataFrame is empty. Cannot show top configurations for rosenbrock.\n"
     ]
    }
   ],
   "source": [
    "# Importing libraries\n",
    "from IPython.display import display\n",
    "import pandas as pd\n",
    "import matplotlib.pyplot as plt\n",
    "import ast\n",
    "%matplotlib inline\n",
    "import re\n",
    "\n",
    "# Load the CSV results file\n",
    "csv_file = 'pso_results.csv'\n",
    "expected_columns = ['function', 'method', 'n_particles', 'iters', 'w', 'c1', 'c2', 'dim', 'cost', 'execution_time', 'cost_history']\n",
    "try:\n",
    "    df = pd.read_csv(csv_file)\n",
    "    print(f\"Successfully loaded {csv_file}\")\n",
    "except FileNotFoundError:\n",
    "    print(f\"Error: The file {csv_file} was not found in the current directory.\")\n",
    "    print(\"Please make sure the CSV file is present or update the path.\")\n",
    "    print(\"Displaying analysis with an empty DataFrame as a placeholder.\")\n",
    "    df = pd.DataFrame(columns=expected_columns)\n",
    "\n",
    "functions = ['ackley', 'rastrigin', 'rosenbrock']\n",
    "methods = df['method'].unique() if not df.empty else []\n",
    "for func in functions:\n",
    "    if not df.empty:\n",
    "        func_df = df[df['function'] == func]\n",
    "        if not func_df.empty:\n",
    "            best_results = func_df.sort_values(by='cost').head(5)\n",
    "            print(f\"\\nTop 5 configurations for {func}:\")\n",
    "            display(best_results[['method', 'n_particles', 'iters', 'w', 'c1', 'c2', 'dim', 'cost', 'execution_time']])\n",
    "        else:\n",
    "            print(f\"\\nNo data found for function {func}.\")\n",
    "    else:\n",
    "        print(f\"\\nDataFrame is empty. Cannot show top configurations for {func}.\")\n",
    "\n",
    "def extract_floats(x):\n",
    "    if isinstance(x, str):\n",
    "        try:\n",
    "            # Replace \"np.float64\" and extract the float values\n",
    "            x_cleaned = re.sub(r'np\\.float64\\((.*?)\\)', r'\\1', x)\n",
    "            return [float(val) for val in ast.literal_eval(x_cleaned)]\n",
    "        except (ValueError, SyntaxError) as e:\n",
    "            # Handle the case where conversion fails\n",
    "            print(f\"Error at converting cost_history: {e}, value: {x}\")\n",
    "            return []\n",
    "    return x if isinstance(x, list) else []\n",
    "\n",
    "if 'cost_history' in df.columns:\n",
    "    df['cost_history'] = df['cost_history'].apply(extract_floats)\n",
    "else:\n",
    "    print(\"\\n'cost_history' column not found in DataFrame. Skipping conversion.\")\n"
   ]
  },
  {
   "cell_type": "markdown",
   "id": "markdown_convergence_header",
   "metadata": {},
   "source": [
    "## Convergence Plots\n",
    "\n",
    "The following plots show the convergence of the best configurations for each method (AsyncPSO, OpenMP_PSO, and PySwarms) on the Ackley, Rastrigin, and Rosenbrock functions. The y-axis (cost) is on a logarithmic scale to better visualize the convergence towards lower values."
   ]
  },
  {
   "cell_type": "code",
   "execution_count": 2,
   "id": "ff80c1d115d0b9a4",
   "metadata": {
    "ExecuteTime": {
     "end_time": "2025-05-13T22:32:50.143269Z",
     "start_time": "2025-05-13T22:32:49.470130Z"
    },
    "execution": {
     "iopub.execute_input": "2025-05-21T07:26:11.330262Z",
     "iopub.status.busy": "2025-05-21T07:26:11.329933Z",
     "iopub.status.idle": "2025-05-21T07:26:11.342024Z",
     "shell.execute_reply": "2025-05-21T07:26:11.340974Z"
    }
   },
   "outputs": [
    {
     "name": "stdout",
     "output_type": "stream",
     "text": [
      "DataFrame is empty. Cannot generate convergence plots.\n"
     ]
    }
   ],
   "source": [
    "# Plotting convergence comparison for the best configurations\n",
    "# Obtaining function names\n",
    "if not df.empty:\n",
    "    for func in functions:\n",
    "        # Filter the DataFrame for the current function and get the best configurations\n",
    "        func_df = df[df['function'] == func]\n",
    "        if func_df.empty:\n",
    "            print(f\"Skipping convergence plot for {func}: No data.\")\n",
    "            continue\n",
    "        \n",
    "        best_async_series = func_df[func_df['method'] == 'async'].sort_values(by='cost')\n",
    "        best_pyswarms_series = func_df[func_df['method'] == 'pyswarms'].sort_values(by='cost')\n",
    "        best_openmp_series = func_df[func_df['method'] == 'openmp'].sort_values(by='cost')\n",
    "        \n",
    "        if best_async_series.empty or best_pyswarms_series.empty or best_openmp_series.empty:\n",
    "            print(f\"Skipping convergence plot for {func}: Missing data for one or more methods.\")\n",
    "            continue\n",
    "            \n",
    "        best_async = best_async_series.iloc[0]\n",
    "        best_pyswarms = best_pyswarms_series.iloc[0]\n",
    "        best_openmp = best_openmp_series.iloc[0]\n",
    "\n",
    "        # Set the cost history for both methods\n",
    "        min_length = min(len(best_async['cost_history']),len(best_pyswarms['cost_history']), len(best_openmp['cost_history']))\n",
    "        my_async_history = best_async['cost_history'][:min_length]\n",
    "        my_openmp_history = best_openmp['cost_history'][:min_length]\n",
    "        pyswarms_history = best_pyswarms['cost_history'][:min_length]\n",
    "\n",
    "        # Plotting the convergence comparison\n",
    "        plt.figure(figsize=(10, 6))\n",
    "        plt.plot(pyswarms_history, label='PySwarms (Best)', linestyle='--', color='orange', linewidth=2)\n",
    "        plt.plot(my_async_history, label='AsyncPSO (Best)', linestyle='-', color='blue', linewidth=2)\n",
    "        plt.plot(my_openmp_history, label='OpenMP_PSO (Best)', linestyle='-', color='green', linewidth=2)\n",
    "\n",
    "        plt.yscale('log')\n",
    "        plt.ylim(bottom=max(1e-6, min(pyswarms_history + my_async_history + my_openmp_history) / 10), top=max(pyswarms_history + my_async_history + my_openmp_history) * 10 if pyswarms_history and my_async_history and my_openmp_history else 10) # Adjusted ylim\n",
    "        plt.xlabel('Iteration')\n",
    "        plt.ylabel('Cost (log scale)')\n",
    "        plt.title(f'Convergence Comparison: ({func.capitalize()} Function, Best Configurations)')\n",
    "        plt.grid(True, which=\"both\", linestyle=\"--\", alpha=0.7)\n",
    "        plt.legend()\n",
    "        plt.show()\n",
    "else:\n",
    "    print(\"DataFrame is empty. Cannot generate convergence plots.\")"
   ]
  },
  {
   "cell_type": "markdown",
   "id": "markdown_boxplot_header",
   "metadata": {},
   "source": [
    "## Cost and Execution Time Distributions\n",
    "\n",
    "The following box plots visualize the distribution of final costs and execution times across different methods, grouped by the number of particles and problem dimensionality, respectively. This helps in understanding the performance and efficiency trade-offs."
   ]
  },
  {
   "cell_type": "code",
   "execution_count": 3,
   "id": "378a54687f355013",
   "metadata": {
    "ExecuteTime": {
     "end_time": "2025-05-13T22:33:23.981136Z",
     "start_time": "2025-05-13T22:33:23.731762Z"
    },
    "execution": {
     "iopub.execute_input": "2025-05-21T07:26:11.345672Z",
     "iopub.status.busy": "2025-05-21T07:26:11.345330Z",
     "iopub.status.idle": "2025-05-21T07:26:11.510997Z",
     "shell.execute_reply": "2025-05-21T07:26:11.509609Z"
    }
   },
   "outputs": [
    {
     "name": "stdout",
     "output_type": "stream",
     "text": [
      "DataFrame is empty. Cannot generate box plots.\n"
     ]
    }
   ],
   "source": [
    "import seaborn as sns\n",
    "# Boxplot for cost and execution time of the different methods (My PSO and PySwarms)\n",
    "if not df.empty:\n",
    "    plt.figure(figsize=(12, 7)) # Increased figure size for better readability\n",
    "    sns.boxplot(x='n_particles', y='cost', hue='method', data=df)\n",
    "    plt.yscale('log')\n",
    "    plt.title('Final Cost Distribution by Number of Particles and Method (All Functions)') # Clarified title\n",
    "    plt.xlabel('Number of Particles') # Added x-axis label\n",
    "    plt.ylabel('Final Cost (log scale)') # Added y-axis label\n",
    "    plt.legend(title='Method') # Added legend title\n",
    "    plt.grid(True, which=\"both\", linestyle=\"--\", alpha=0.5) # Added subtle grid\n",
    "    plt.show()\n",
    "\n",
    "    plt.figure(figsize=(12, 7)) # Increased figure size\n",
    "    sns.boxplot(x='dim', y='execution_time', hue='method', data=df)\n",
    "    plt.yscale('log') # Using log scale for execution time as well, if it varies a lot\n",
    "    plt.title('Execution Time Distribution by Dimension and Method (All Functions)') # Clarified title\n",
    "    plt.xlabel('Dimension') # Added x-axis label\n",
    "    plt.ylabel('Execution Time (log scale)') # Added y-axis label\n",
    "    plt.legend(title='Method') # Added legend title\n",
    "    plt.grid(True, which=\"both\", linestyle=\"--\", alpha=0.5) # Added subtle grid\n",
    "    plt.show()\n",
    "    \n",
    "    # Suggestion: Add separate plots per function if needed\n",
    "    # for func_name in df['function'].unique():\n",
    "    #     plt.figure(figsize=(12, 7))\n",
    "    #     sns.boxplot(x='n_particles', y='cost', hue='method', data=df[df['function']==func_name])\n",
    "    #     plt.yscale('log')\n",
    "    #     plt.title(f'Final Cost Distribution for {func_name.capitalize()} by N Particles and Method')\n",
    "    #     plt.xlabel('Number of Particles')\n",
    "    #     plt.ylabel('Final Cost (log scale)')\n",
    "    #     plt.legend(title='Method')\n",
    "    #     plt.grid(True, which=\"both\", linestyle=\"--\", alpha=0.5)\n",
    "    #     plt.show()\n",
    "else:\n",
    "    print(\"DataFrame is empty. Cannot generate box plots.\")"
   ]
  },
  {
   "cell_type": "markdown",
   "id": "markdown_scatterplot_header",
   "metadata": {},
   "source": [
    "## Scatter Plots (Placeholder)\n",
    "\n",
    "This section is intended for scatter plots comparing final cost and execution time between the different PSO methods. This type of plot can help visualize trade-offs, e.g., if one method is faster but achieves a slightly worse cost, or vice-versa.\n",
    "\n",
    "**TODO:** Add scatter plots here if `pso_results.csv` is available. Example:\n",
    "```python\n",
    "# import seaborn as sns\n",
    "# import matplotlib.pyplot as plt\n",
    "# if not df.empty:\n",
    "#     plt.figure(figsize=(10, 6))\n",
    "#     sns.scatterplot(data=df, x='execution_time', y='cost', hue='method', style='function', size='n_particles')\n",
    "#     plt.xscale('log')\n",
    "#     plt.yscale('log')\n",
    "#     plt.title('Cost vs. Execution Time by Method, Function, and Particle Size')\n",
    "#     plt.xlabel('Execution Time (log scale)')\n",
    "#     plt.ylabel('Final Cost (log scale)')\n",
    "#     plt.legend(bbox_to_anchor=(1.05, 1), loc='upper left')\n",
    "#     plt.grid(True, which=\"both\", ls=\"--\", alpha=0.7)\n",
    "#     plt.tight_layout()\n",
    "#     plt.show()\n",
    "# else:\n",
    "#     print(\"DataFrame is empty. Cannot generate scatter plot.\")\n",
    "```"
   ]
  },
  {
   "cell_type": "code",
   "execution_count": 4,
   "id": "51d89d9b7b978c14",
   "metadata": {
    "execution": {
     "iopub.execute_input": "2025-05-21T07:26:11.515354Z",
     "iopub.status.busy": "2025-05-21T07:26:11.514915Z",
     "iopub.status.idle": "2025-05-21T07:26:11.519622Z",
     "shell.execute_reply": "2025-05-21T07:26:11.518682Z"
    }
   },
   "outputs": [],
   "source": [
    "# This cell is intentionally left for implementing scatter plots as described above."
   ]
  },
  {
   "cell_type": "markdown",
   "id": "markdown_summary_header",
   "metadata": {},
   "source": [
    "## Summary and Conclusions (Placeholder)\n",
    "\n",
    "This section should summarize the key findings from the analysis.\n",
    "\n",
    "**Based on the (hypothetical) results, one might conclude:**\n",
    "* Which PSO method (AsyncPSO, OpenMP_PSO, PySwarms) generally performs best for the tested functions in terms of final cost.\n",
    "* Which method is most computationally efficient (lowest execution time).\n",
    "* How parameters like the number of particles and problem dimensionality affect performance and efficiency.\n",
    "* Whether there are specific methods that excel on particular types of functions.\n",
    "\n",
    "**TODO:** Add a detailed summary here once the notebook can be fully executed with `pso_results.csv`."
   ]
  }
 ],
 "metadata": {
  "kernelspec": {
   "display_name": "venv",
   "language": "python",
   "name": "python3"
  },
  "language_info": {
   "codemirror_mode": {
    "name": "ipython",
    "version": 3
   },
   "file_extension": ".py",
   "mimetype": "text/x-python",
   "name": "python",
   "nbconvert_exporter": "python",
   "pygments_lexer": "ipython3",
   "version": "3.10.17"
  }
 },
 "nbformat": 4,
 "nbformat_minor": 5
}
